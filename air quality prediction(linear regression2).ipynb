{
 "cells": [
  {
   "cell_type": "code",
   "execution_count": 3,
   "metadata": {},
   "outputs": [],
   "source": [
    "import numpy as np\n",
    "import pandas as pd\n",
    "import matplotlib.pyplot as plt                        "
   ]
  },
  {
   "cell_type": "markdown",
   "metadata": {},
   "source": [
    "# reading training data"
   ]
  },
  {
   "cell_type": "code",
   "execution_count": 4,
   "metadata": {},
   "outputs": [],
   "source": [
    "dfx=pd.read_csv('Train.csv')\n",
    "x1=dfx['feature_1'].values\n",
    "x2=dfx['feature_2'].values\n",
    "x3=dfx['feature_3'].values\n",
    "x4=dfx['feature_4'].values\n",
    "x5=dfx['feature_5'].values\n",
    "y=dfx['target'].values\n",
    "y=y.reshape((y.shape[0],1))"
   ]
  },
  {
   "cell_type": "markdown",
   "metadata": {},
   "source": [
    "# gradient descent algorithm"
   ]
  },
  {
   "cell_type": "code",
   "execution_count": 5,
   "metadata": {},
   "outputs": [],
   "source": [
    "def hypothesis(x1,x2,x3,x4,x5,theta):\n",
    "    hx=theta[0]*x1+theta[1]*x2+theta[2]*x3+theta[3]*x4+theta[4]*x5+theta[5]\n",
    "    return(hx)"
   ]
  },
  {
   "cell_type": "code",
   "execution_count": 6,
   "metadata": {},
   "outputs": [],
   "source": [
    "def error(x1,x2,x3,x4,x5,y,theta):\n",
    "    err=0\n",
    "    for i in range(x1.shape[0]):\n",
    "        hx=hypothesis(x1[i],x2[i],x3[i],x4[i],x5[i],theta)\n",
    "        err+=(hx-y[i][0])**2\n",
    "    return(err)    \n",
    "    "
   ]
  },
  {
   "cell_type": "code",
   "execution_count": 7,
   "metadata": {},
   "outputs": [],
   "source": [
    "def gradient(x1,x2,x3,x4,x5,y,theta):\n",
    "    grad=np.zeros((6))\n",
    "    for i in range(x1.shape[0]):\n",
    "        hx=hypothesis(x1[i],x2[i],x3[i],x4[i],x5[i],theta)\n",
    "        grad[0]+=(hx-y[i])*x1[i]\n",
    "        grad[1]+=(hx-y[i])*x2[i]\n",
    "        grad[2]+=(hx-y[i])*x3[i]\n",
    "        grad[3]+=(hx-y[i])*x4[i]\n",
    "        grad[4]+=(hx-y[i])*x5[i]\n",
    "        grad[5]+=(hx-y[i])\n",
    "    return(grad)\n",
    "\n",
    "    "
   ]
  },
  {
   "cell_type": "code",
   "execution_count": 8,
   "metadata": {},
   "outputs": [],
   "source": [
    "def gradient_descent(x1,x2,x3,x4,x5,y,learning_rate=0.0001):\n",
    "    theta=np.array([2.0,0.3,8.2,1.0,0.5,6.0])\n",
    "    error_list=[]\n",
    "    for i in range(300):\n",
    "        grad=gradient(x1,x2,x3,x4,x5,y,theta)\n",
    "        err=error(x1,x2,x3,x4,x5,y,theta)\n",
    "        error_list.append(err)\n",
    "        theta[0]-=learning_rate*grad[0]\n",
    "        theta[1]-=learning_rate*grad[1]\n",
    "        theta[2]-=learning_rate*grad[2]\n",
    "        theta[3]-=learning_rate*grad[3]\n",
    "        theta[4]-=learning_rate*grad[4]\n",
    "        theta[5]-=learning_rate*grad[5]\n",
    "    return(theta,error_list)   "
   ]
  },
  {
   "cell_type": "code",
   "execution_count": 9,
   "metadata": {},
   "outputs": [
    {
     "data": {
      "image/png": "[encoded data removed]",
      "text/plain": [
       "<Figure size 432x288 with 1 Axes>"
      ]
     },
     "metadata": {
      "needs_background": "light"
     },
     "output_type": "display_data"
    }
   ],
   "source": [
    "final_theta,error_list=gradient_descent(x1,x2,x3,x4,x5,y)\n",
    "plt.plot(error_list)\n",
    "plt.show()"
   ]
  },
  {
   "cell_type": "code",
   "execution_count": 10,
   "metadata": {},
   "outputs": [
    {
     "name": "stdout",
     "output_type": "stream",
     "text": [
      "[29.68187118 92.66247759  8.28062089 44.76773522  2.51916121  4.99096674]\n"
     ]
    }
   ],
   "source": [
    "print(final_theta)"
   ]
  },
  {
   "cell_type": "code",
   "execution_count": 43,
   "metadata": {},
   "outputs": [
    {
     "name": "stdout",
     "output_type": "stream",
     "text": [
      "predicted air quality index is\n",
      "      feature_1  feature_2  feature_3  feature_4  feature_5  predicted output\n",
      "0     1.015254   2.076209  -0.266435  -2.418088  -0.980503        114.583689\n",
      "1    -0.375021   0.953185   0.626719   0.704406  -0.355489        118.012815\n",
      "2    -1.024452   0.962991  -0.407942  -1.861274   0.455201        -21.739852\n",
      "3    -2.489841   0.544802   0.601219  -0.607021  -1.314286        -43.936899\n",
      "4    -0.384675  -0.833624   1.358552  -0.547932   0.411925        -95.914898\n",
      "..         ...        ...        ...        ...        ...               ...\n",
      "395  -0.436959  -0.575844  -1.620908  -0.222588   1.086013        -81.989000\n",
      "396  -0.421324  -2.417543   0.876275   0.844565   0.171646       -186.032535\n",
      "397   0.554728   1.768243  -0.897787  -1.193661   0.340563        125.292336\n",
      "398  -1.627172   0.856471  -0.000566   0.629387   0.453382         65.369841\n",
      "399   0.139310   0.531597  -0.853107   0.031692   1.714893         57.059691\n",
      "\n",
      "[400 rows x 6 columns]\n"
     ]
    }
   ],
   "source": [
    "a=pd.read_csv('./Test.csv')\n",
    "a1=a['feature_1'].values\n",
    "a2=a['feature_2'].values\n",
    "a3=a['feature_3'].values\n",
    "a4=a['feature_4'].values\n",
    "a5=a['feature_5'].values\n",
    "b=hypothesis(a1,a2,a3,a4,a5,final_theta)\n",
    "b=b.flatten()\n",
    "a['predicted output']=b;\n",
    "print('predicted air quality index is\\n',a)"
   ]
  },
  {
   "cell_type": "code",
   "execution_count": null,
   "metadata": {},
   "outputs": [],
   "source": []
  },
  {
   "cell_type": "code",
   "execution_count": null,
   "metadata": {},
   "outputs": [],
   "source": []
  },
  {
   "cell_type": "code",
   "execution_count": null,
   "metadata": {},
   "outputs": [],
   "source": []
  }
 ],
 "metadata": {
  "kernelspec": {
   "display_name": "Python 3",
   "language": "python",
   "name": "python3"
  },
  "language_info": {
   "codemirror_mode": {
    "name": "ipython",
    "version": 3
   },
   "file_extension": ".py",
   "mimetype": "text/x-python",
   "name": "python",
   "nbconvert_exporter": "python",
   "pygments_lexer": "ipython3",
   "version": "3.7.6"
  }
 },
 "nbformat": 4,
 "nbformat_minor": 4
}
